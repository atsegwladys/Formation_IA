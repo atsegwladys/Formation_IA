{
 "cells": [
  {
   "cell_type": "markdown",
   "id": "e246be9b",
   "metadata": {},
   "source": [
    "# Exercice python base 2"
   ]
  },
  {
   "cell_type": "markdown",
   "id": "be372d1f",
   "metadata": {},
   "source": [
    "## Exercice 1.1"
   ]
  },
  {
   "cell_type": "code",
   "execution_count": null,
   "id": "6bfaed22",
   "metadata": {},
   "outputs": [],
   "source": [
    "n=int(input(\"Entrer un entier:\"))\n",
    "def factorielle(n):\n",
    "    fact=n\n",
    "    for i in range(1,n):\n",
    "        fact=fact*(n-i)\n",
    "    return fact\n",
    "\n",
    "factorielle(n)  "
   ]
  },
  {
   "cell_type": "markdown",
   "id": "cf8aab68",
   "metadata": {},
   "source": [
    "## Exercice 1.2"
   ]
  },
  {
   "cell_type": "code",
   "execution_count": 2,
   "id": "c8852771",
   "metadata": {},
   "outputs": [
    {
     "name": "stdout",
     "output_type": "stream",
     "text": [
      "Entrer un entier:15\n"
     ]
    },
    {
     "data": {
      "text/plain": [
       "[1, 3, 5, 7, 9, 11, 13, 15]"
      ]
     },
     "execution_count": 2,
     "metadata": {},
     "output_type": "execute_result"
    }
   ],
   "source": [
    "nombre=int(input(\"Entrer un entier:\"))\n",
    "liste=[]\n",
    "\n",
    "def lister(nombre):\n",
    "    for i in range(0,nombre+1):\n",
    "        a=i\n",
    "        while a%2!=0:\n",
    "            liste.append(a)\n",
    "            break\n",
    "    return liste\n",
    "\n",
    "lister(nombre)"
   ]
  },
  {
   "cell_type": "markdown",
   "id": "635184e1",
   "metadata": {},
   "source": [
    "## Exercice 1.3"
   ]
  },
  {
   "cell_type": "code",
   "execution_count": 29,
   "id": "100909e1",
   "metadata": {},
   "outputs": [
    {
     "name": "stdout",
     "output_type": "stream",
     "text": [
      "[10, 17, 25, 38, 72]\n"
     ]
    }
   ],
   "source": [
    "liste=[17,38,10,25,72]\n",
    "\n",
    "liste.sort()\n",
    "print(liste)"
   ]
  },
  {
   "cell_type": "code",
   "execution_count": 30,
   "id": "ebfa63ec",
   "metadata": {},
   "outputs": [
    {
     "data": {
      "text/plain": [
       "[10, 17, 25, 38, 72, 12]"
      ]
     },
     "execution_count": 30,
     "metadata": {},
     "output_type": "execute_result"
    }
   ],
   "source": [
    "liste.append(12)\n",
    "liste"
   ]
  },
  {
   "cell_type": "code",
   "execution_count": 31,
   "id": "df0e5a86",
   "metadata": {},
   "outputs": [
    {
     "data": {
      "text/plain": [
       "[12, 72, 38, 25, 17, 10]"
      ]
     },
     "execution_count": 31,
     "metadata": {},
     "output_type": "execute_result"
    }
   ],
   "source": [
    "liste.reverse()\n",
    "liste"
   ]
  },
  {
   "cell_type": "code",
   "execution_count": 32,
   "id": "5ec45676",
   "metadata": {},
   "outputs": [
    {
     "data": {
      "text/plain": [
       "6"
      ]
     },
     "execution_count": 32,
     "metadata": {},
     "output_type": "execute_result"
    }
   ],
   "source": [
    "len(liste)"
   ]
  },
  {
   "cell_type": "code",
   "execution_count": 33,
   "id": "ecb747c5",
   "metadata": {},
   "outputs": [
    {
     "data": {
      "text/plain": [
       "[12, 72, 25, 17, 10]"
      ]
     },
     "execution_count": 33,
     "metadata": {},
     "output_type": "execute_result"
    }
   ],
   "source": [
    "liste.remove(38)\n",
    "liste"
   ]
  },
  {
   "cell_type": "code",
   "execution_count": 45,
   "id": "b6b24118",
   "metadata": {},
   "outputs": [
    {
     "data": {
      "text/plain": [
       "[72, 25]"
      ]
     },
     "execution_count": 45,
     "metadata": {},
     "output_type": "execute_result"
    }
   ],
   "source": [
    "liste[1:3]"
   ]
  },
  {
   "cell_type": "code",
   "execution_count": 47,
   "id": "c5253369",
   "metadata": {},
   "outputs": [
    {
     "data": {
      "text/plain": [
       "[12, 72]"
      ]
     },
     "execution_count": 47,
     "metadata": {},
     "output_type": "execute_result"
    }
   ],
   "source": [
    "liste[:2]"
   ]
  },
  {
   "cell_type": "code",
   "execution_count": 49,
   "id": "78d59e60",
   "metadata": {},
   "outputs": [
    {
     "data": {
      "text/plain": [
       "[25, 17, 10]"
      ]
     },
     "execution_count": 49,
     "metadata": {},
     "output_type": "execute_result"
    }
   ],
   "source": [
    "liste[2:]"
   ]
  },
  {
   "cell_type": "markdown",
   "id": "ea93b7f7",
   "metadata": {},
   "source": [
    "##  Exercice 1.4"
   ]
  },
  {
   "cell_type": "code",
   "execution_count": 61,
   "id": "bba8bb54",
   "metadata": {},
   "outputs": [
    {
     "name": "stdout",
     "output_type": "stream",
     "text": [
      "Entrer la taille de la liste:5\n",
      "remplissez la liste:2\n",
      "remplissez la liste:3\n",
      "remplissez la liste:4\n",
      "remplissez la liste:5\n",
      "remplissez la liste:4\n"
     ]
    },
    {
     "data": {
      "text/plain": [
       "[2.0, 3.0, 4.0, 5.0]"
      ]
     },
     "execution_count": 61,
     "metadata": {},
     "output_type": "execute_result"
    }
   ],
   "source": [
    "liste=[]\n",
    "taille=int(input(\"Entrer la taille de la liste:\"))\n",
    "\n",
    "def doublons():\n",
    "    for i in range(0,taille):\n",
    "        element=float(input(\"remplissez la liste:\"))\n",
    "        if element not in liste:\n",
    "            liste.append(element)                \n",
    "    return liste\n",
    "\n",
    "doublons()   "
   ]
  }
 ],
 "metadata": {
  "kernelspec": {
   "display_name": "Python 3 (ipykernel)",
   "language": "python",
   "name": "python3"
  },
  "language_info": {
   "codemirror_mode": {
    "name": "ipython",
    "version": 3
   },
   "file_extension": ".py",
   "mimetype": "text/x-python",
   "name": "python",
   "nbconvert_exporter": "python",
   "pygments_lexer": "ipython3",
   "version": "3.9.13"
  }
 },
 "nbformat": 4,
 "nbformat_minor": 5
}
